{
 "cells": [
  {
   "cell_type": "code",
   "execution_count": 1,
   "id": "afb01afd",
   "metadata": {},
   "outputs": [],
   "source": [
    "from bs4 import BeautifulSoup\n",
    "import requests\n",
    "import pandas as pd\n",
    "import time\n",
    "from selenium import webdriver\n",
    "import time\n",
    "from selenium.webdriver.chrome.service import Service as ChromeService\n",
    "import matplotlib.pyplot as plt"
   ]
  },
  {
   "cell_type": "markdown",
   "id": "9f9a98f6",
   "metadata": {},
   "source": [
    "# chrono24.com scraper\n",
    "\n",
    "\n",
    "\n",
    "1. Retrieve the specifics of specific reference\n",
    "2. Retrieving the price history of specific references "
   ]
  },
  {
   "cell_type": "raw",
   "id": "f7c85095",
   "metadata": {},
   "source": [
    "refs = [\"128235\", \"128238\", \"128239\", \"128345RBR\", \"128348\", \"128349\",\"228206\",\"228235\",\"228238\", \"228239\", \n",
    "\"228345RBR\", \"228348RBR\", \"228349RBR\", \"228396TBR\", \"228398TBR\", \"326235\", \"326238\", \"326933\", \"326934\"]"
   ]
  },
  {
   "cell_type": "code",
   "execution_count": 2,
   "id": "412d40c1",
   "metadata": {},
   "outputs": [],
   "source": [
    "refs = [\"326935\", \"326934\"]"
   ]
  },
  {
   "cell_type": "markdown",
   "id": "e000e9d3",
   "metadata": {},
   "source": [
    "### Retrieve the page content"
   ]
  },
  {
   "cell_type": "code",
   "execution_count": 3,
   "id": "52cf044e",
   "metadata": {},
   "outputs": [],
   "source": [
    "urls = []\n",
    "for query in refs:\n",
    "    url= \"https://www.chrono24.com/search/index.htm?currencyId=USD&dosearch=true&maxAgeInDays=0&pageSize=60&query=\" + query + \"&redirectToSearchIndex=true&resultview=block&searchexplain=1&sortorder=15&usedOrNew=new\"\n",
    "\n",
    "    page = requests.get(url)\n",
    "    soup = BeautifulSoup(page.content, \"html.parser\")\n",
    "    soup =soup.find(\"div\", \"article-item-container wt-search-result\")\n",
    "\n",
    "    for i in str(soup).split():\n",
    "        if \"href\" in i:\n",
    "            url = i.split('\"')[1]\n",
    "            urls.append(\"https://www.chrono24.com\" + url)"
   ]
  },
  {
   "cell_type": "markdown",
   "id": "44ef4b40",
   "metadata": {},
   "source": [
    "### Create dataframe containing the specifics"
   ]
  },
  {
   "cell_type": "code",
   "execution_count": 4,
   "id": "8f702f81",
   "metadata": {},
   "outputs": [
    {
     "name": "stdout",
     "output_type": "stream",
     "text": [
      "   Brand        Model Referencenumber   Movement Casematerial  \\\n",
      "0  Rolex  Sky-Dweller          326935  Automatic     Rosegold   \n",
      "1  Rolex  Sky-Dweller          326934  Automatic        Steel   \n",
      "\n",
      "  Braceletmaterial Yearofproduction Condition  \n",
      "0         Rosegold          Unknown    Unworn  \n",
      "1            Steel             2022       New  \n"
     ]
    }
   ],
   "source": [
    "dictionaries = []\n",
    "\n",
    "\n",
    "for watch in urls:\n",
    "    page = requests.get(watch)\n",
    "    soup = BeautifulSoup(page.content, \"html.parser\")\n",
    "\n",
    "    info=[]\n",
    "    for i in soup.find_all(\"div\", \"col-xs-24 col-md-12\"):\n",
    "        element= i.text.replace(\" \", \"\").split(\"\\n\")\n",
    "        if element != \"\":\n",
    "            info.append(element)\n",
    "\n",
    "    info = [item for sublist in info for item in sublist if item != '' and item != \"\\r\"][3:]\n",
    "\n",
    "    dictionary = {}\n",
    "    for i in range(0, len(info), 2):\n",
    "        try:\n",
    "            dictionary.update({info[i]: info[i+1]})\n",
    "        except:\n",
    "            pass\n",
    "        \n",
    "    dictionaries.append(dictionary)\n",
    "    \n",
    "data  = pd.DataFrame(dictionaries)[[ \"Brand\", \"Model\", \"Referencenumber\", \"Movement\", \"Casematerial\", \"Braceletmaterial\", \"Yearofproduction\", \"Condition\"]]\n",
    "print(data)\n"
   ]
  },
  {
   "cell_type": "markdown",
   "id": "6d5d3015",
   "metadata": {},
   "source": [
    "### Create dataframe of the reference's price history and plot it"
   ]
  },
  {
   "cell_type": "code",
   "execution_count": 5,
   "id": "ddafb460",
   "metadata": {},
   "outputs": [],
   "source": [
    "def retrieve_price_history(reference):\n",
    "    time.sleep(1)\n",
    "    \n",
    "    url= \"https://www.chrono24.com/search/index.htm?currencyId=USD&dosearch=true&maxAgeInDays=0&pageSize=60&query=\" + ref + \"&redirectToSearchIndex=true&resultview=block&searchexplain=1&sortorder=0&usedOrNew=new\"\n",
    "    page = requests.get(url)\n",
    "    soup = BeautifulSoup(page.content, \"html.parser\")\n",
    "    soup =soup.find(\"div\", \"article-item-container wt-search-result\")\n",
    "\n",
    "    urls = [\"https://www.chrono24.com\" + i.split('\"')[1] for i in str(soup).split() if \"href\" in i]\n",
    "\n",
    "    Id = str(urls[0]).split(\".\")[2].split(\"d\")[-1:]\n",
    "\n",
    "    api_url = \"https://www.chrono24.com/api/watch/collection/item/chart/price.json?watchId={}&period=max\".format(str(urls[0]).split(\".\")[2].split(\"d\")[-1:][0])\n",
    "\n",
    "    print(api_url)\n",
    "\n",
    "    options = webdriver.ChromeOptions() \n",
    "    options.add_argument(\"user-data-dir=C:\\\\Users\\\\pietr\\\\AppData\\\\Local\\\\Google\\\\Chrome\\\\User Data\") #Path to your chrome profile\n",
    "    options.add_argument('--profile-directory=Default')\n",
    "    options.add_argument('--headless')\n",
    "    options.add_argument('--no-sandbox')\n",
    "    options.add_argument('--disable-dev-shm-usage')\n",
    "\n",
    "    driver = webdriver.Chrome(executable_path = 'drivers\\chromedriver.exe', options= options)\n",
    "\n",
    "    driver.get(api_url)\n",
    "\n",
    "    html = driver.page_source\n",
    "    soup = BeautifulSoup(html,'lxml')\n",
    "\n",
    "\n",
    "    data = soup.text.split(\"coordinatesPostPurchase\")[1].split(\",\")\n",
    "\n",
    "\n",
    "    data = [i.replace('\"value\"', \"\").replace(\"}\", \"\").replace(\":\", \"\").replace('\"', \"\").replace(\"]\", \"\") for i in data if \"value\" in i]\n",
    "    data = [[data[i], data[i+1], data[i+2], data[i+3]] for i in range(0, len(data), 4)]\n",
    "\n",
    "\n",
    "    df = pd.DataFrame(data)\n",
    "    df = df.rename(columns={0: \"date\", 1: \"upper\", 2:\"average\", 3:\"lower\"})\n",
    "    df['date'] = pd.to_datetime(df['date'])\n",
    "    df['average'] = pd.to_numeric(df['average'])\n",
    "    df['upper'] = pd.to_numeric(df['upper'])\n",
    "    df['lower'] = pd.to_numeric(df['lower'])\n",
    "\n",
    "    df =df.set_index('date')\n",
    "    plt.figure(figsize = [15, 8])\n",
    "    plt.style.use('ggplot')\n",
    "\n",
    "    plt.plot(df['average'], label = 'average')\n",
    "    plt.plot(df['upper'], label = 'upper')\n",
    "    plt.plot(df['lower'], label = 'lower')\n",
    "    plt.title(\"Price Watches ref. \" + reference)\n",
    "    plt.ylabel(\"Price\")\n",
    "    plt.xlabel(\"Year\")\n",
    "    plt.legend()\n",
    "    plt.show()\n",
    "    return df"
   ]
  },
  {
   "cell_type": "code",
   "execution_count": null,
   "id": "da890788",
   "metadata": {},
   "outputs": [
    {
     "name": "stdout",
     "output_type": "stream",
     "text": [
      "326935\n",
      "https://www.chrono24.com/api/watch/collection/item/chart/price.json?watchId=8919967&period=max\n"
     ]
    },
    {
     "name": "stderr",
     "output_type": "stream",
     "text": [
      "C:\\Users\\pietr\\AppData\\Local\\Temp\\ipykernel_9748\\363111347.py:24: DeprecationWarning: executable_path has been deprecated, please pass in a Service object\n",
      "  driver = webdriver.Chrome(executable_path = 'drivers\\chromedriver.exe', options= options)\n"
     ]
    }
   ],
   "source": [
    "for ref in refs:\n",
    "    print(ref)\n",
    "    retrieve_price_history(ref)\n",
    "    "
   ]
  },
  {
   "cell_type": "code",
   "execution_count": null,
   "id": "e6c7d057",
   "metadata": {},
   "outputs": [],
   "source": []
  }
 ],
 "metadata": {
  "kernelspec": {
   "display_name": "Python 3 (ipykernel)",
   "language": "python",
   "name": "python3"
  },
  "language_info": {
   "codemirror_mode": {
    "name": "ipython",
    "version": 3
   },
   "file_extension": ".py",
   "mimetype": "text/x-python",
   "name": "python",
   "nbconvert_exporter": "python",
   "pygments_lexer": "ipython3",
   "version": "3.9.15"
  }
 },
 "nbformat": 4,
 "nbformat_minor": 5
}
